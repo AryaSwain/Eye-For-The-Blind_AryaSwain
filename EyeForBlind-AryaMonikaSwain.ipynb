{
 "cells": [
  {
   "cell_type": "markdown",
   "metadata": {
    "_cell_guid": "026a72f0-2b9f-40a4-9473-409056155ea3",
    "_uuid": "96cdf1e5-ba87-4513-b7ca-061646028f05"
   },
   "source": [
    "# EYE FOR BLIND"
   ]
  },
  {
   "cell_type": "markdown",
   "metadata": {},
   "source": [
    "This notebook will be used to prepare the capstone project 'Eye for Blind'"
   ]
  },
  {
   "cell_type": "code",
   "execution_count": 1,
   "metadata": {
    "execution": {
     "iopub.execute_input": "2022-04-20T02:47:28.516552Z",
     "iopub.status.busy": "2022-04-20T02:47:28.516111Z",
     "iopub.status.idle": "2022-04-20T02:47:30.890582Z",
     "shell.execute_reply": "2022-04-20T02:47:30.889867Z",
     "shell.execute_reply.started": "2022-04-20T02:47:28.516469Z"
    },
    "scrolled": true
   },
   "outputs": [],
   "source": [
    "import os\n",
    "for dirpath, _, filenames in os.walk('/kaggle/input'):\n",
    "    for filename in filenames:\n",
    "        print(os.path.join(dirpath, filename))"
   ]
  },
  {
   "cell_type": "code",
   "execution_count": 2,
   "metadata": {
    "_cell_guid": "263407df-2bad-4bcc-9e5b-87d760dac27a",
    "_uuid": "5fbd4bdf-bbba-4fcb-97b4-742682494258",
    "execution": {
     "iopub.execute_input": "2022-04-20T02:47:30.893371Z",
     "iopub.status.busy": "2022-04-20T02:47:30.893173Z",
     "iopub.status.idle": "2022-04-20T02:47:32.912140Z",
     "shell.execute_reply": "2022-04-20T02:47:32.911432Z",
     "shell.execute_reply.started": "2022-04-20T02:47:30.893345Z"
    },
    "jupyter": {
     "outputs_hidden": false
    }
   },
   "outputs": [],
   "source": [
    "#Import all the required libraries\n",
    "\n",
    "import pandas as pd\n",
    "import numpy as np\n",
    "import os\n",
    "import glob\n",
    "import matplotlib.pyplot as plt\n",
    "import seaborn as sns\n",
    "%matplotlib inline\n",
    "import time\n",
    "import random as rn\n",
    "import string\n",
    "from collections import Counter\n",
    "from PIL import Image\n",
    "from tqdm import tqdm\n",
    "from sklearn.model_selection import train_test_split\n",
    "import keras\n",
    "from keras.preprocessing.text import Tokenizer\n",
    "from keras.applications.inception_v3 import InceptionV3\n",
    "from keras.preprocessing import image\n",
    "from keras.models import Model\n",
    "import tensorflow as tf\n",
    "from tensorflow.keras.layers import Dense\n",
    "from tensorflow.keras import Input, layers\n",
    "from tensorflow.keras import optimizers\n",
    "\n",
    "import warnings\n",
    "warnings.filterwarnings(\"ignore\")"
   ]
  },
  {
   "cell_type": "markdown",
   "metadata": {
    "_cell_guid": "ec882376-fc55-4fbc-8713-470f15cf6ace",
    "_uuid": "81534c8e-3579-4a82-b875-a8a108016d3c"
   },
   "source": [
    "Let's read the dataset"
   ]
  },
  {
   "cell_type": "markdown",
   "metadata": {
    "_cell_guid": "2574a34a-dc55-43a6-bc74-8f6089ad8fc7",
    "_uuid": "23117c7b-6538-453e-9c9e-7eadc44d2f4a"
   },
   "source": [
    "## Data understanding\n",
    "1.Import the dataset and read image & captions into two seperate variables\n",
    "\n",
    "2.Visualise both the images & text present in the dataset\n",
    "\n",
    "3.Create a dataframe which summarizes the image, path & captions as a dataframe\n",
    "\n",
    "4.Create a list which contains all the captions & path\n",
    "\n",
    "5.Visualise the top 30 occuring words in the captions"
   ]
  },
  {
   "cell_type": "code",
   "execution_count": 3,
   "metadata": {
    "_cell_guid": "fb97a44e-3ee1-4fdb-8036-402c4db88140",
    "_uuid": "f83b7e5d-7f24-49bc-985c-6283ad6f5334",
    "execution": {
     "iopub.execute_input": "2022-04-20T02:47:32.913721Z",
     "iopub.status.busy": "2022-04-20T02:47:32.913463Z",
     "iopub.status.idle": "2022-04-20T02:47:32.945921Z",
     "shell.execute_reply": "2022-04-20T02:47:32.945197Z",
     "shell.execute_reply.started": "2022-04-20T02:47:32.913687Z"
    },
    "jupyter": {
     "outputs_hidden": false
    }
   },
   "outputs": [],
   "source": [
    "#Import the dataset and read the image into a seperate variable\n",
    "\n",
    "images='/kaggle/input/flickr8k/Images'\n",
    "\n",
    "all_imgs = glob.glob(images + '/*.jpg',recursive=True)\n",
    "print(\"The total images present in the dataset: {}\".format(len(all_imgs)))"
   ]
  },
  {
   "cell_type": "code",
   "execution_count": 4,
   "metadata": {
    "_cell_guid": "1514f625-03cc-4f6f-9514-7cca54080d61",
    "_uuid": "8f8b61e0-4dec-4148-a2c6-934224ab573a",
    "execution": {
     "iopub.execute_input": "2022-04-20T02:47:32.948612Z",
     "iopub.status.busy": "2022-04-20T02:47:32.948208Z",
     "iopub.status.idle": "2022-04-20T02:47:34.238953Z",
     "shell.execute_reply": "2022-04-20T02:47:34.238015Z",
     "shell.execute_reply.started": "2022-04-20T02:47:32.948574Z"
    },
    "jupyter": {
     "outputs_hidden": false
    }
   },
   "outputs": [],
   "source": [
    "#Visualise both the images & text present in the dataset\n",
    "\n",
    "text_file = '/kaggle/input/flickr8k/captions.txt'\n",
    "text_df = pd.read_csv(text_file)\n",
    "text_df.head(5)\n",
    "\n",
    "for i in range(5) : \n",
    "    # visualising image\n",
    "    random_index = rn.randint(0,len(all_imgs))\n",
    "    image_id = text_df.loc[random_index,'image']\n",
    "    print('Image and Text for image id: ',image_id)\n",
    "    image = plt.imread(images + '/' + image_id)\n",
    "    plt.imshow(image)\n",
    "    plt.axis('off')\n",
    "    plt.show()\n",
    "    \n",
    "    # visualising texts\n",
    "    print(text_df.loc[text_df['image'] == image_id,'caption'].values, '\\n\\n')"
   ]
  },
  {
   "cell_type": "code",
   "execution_count": 5,
   "metadata": {
    "_cell_guid": "44835f23-0f81-4483-87fa-36a029169650",
    "_uuid": "8cddafb1-c499-4e6f-8ef2-6b10f90ff509",
    "execution": {
     "iopub.execute_input": "2022-04-20T02:47:34.247509Z",
     "iopub.status.busy": "2022-04-20T02:47:34.242278Z",
     "iopub.status.idle": "2022-04-20T02:47:34.278415Z",
     "shell.execute_reply": "2022-04-20T02:47:34.276735Z",
     "shell.execute_reply.started": "2022-04-20T02:47:34.247467Z"
    },
    "jupyter": {
     "outputs_hidden": false
    }
   },
   "outputs": [],
   "source": [
    "#Import the dataset and read the text file into a seperate variable\n",
    "\n",
    "text_file = '/kaggle/input/flickr8k/captions.txt'\n",
    "def load_doc(filename):\n",
    "    \n",
    "    open_file = open(filename, 'r')\n",
    "    text = open_file.read()\n",
    "    open_file.close()\n",
    "    \n",
    "    return text\n",
    "\n",
    "doc = load_doc(text_file)\n",
    "print(doc[:300])"
   ]
  },
  {
   "cell_type": "markdown",
   "metadata": {
    "_cell_guid": "eb9f528e-e1ee-40d6-9c9d-8774632fbd06",
    "_uuid": "bcac72de-840f-4018-81b4-dac2d8917704"
   },
   "source": [
    "Create a dataframe which summarizes the image, path & captions as a dataframe\n",
    "\n",
    "Each image id has 5 captions associated with it therefore the total dataset should have 40455 samples."
   ]
  },
  {
   "cell_type": "code",
   "execution_count": 6,
   "metadata": {
    "_cell_guid": "00b43e50-fc9b-471c-9b74-2294befdb8dc",
    "_uuid": "b727cb4e-c1ef-4173-b568-c100fda645e1",
    "execution": {
     "iopub.execute_input": "2022-04-20T02:47:34.279857Z",
     "iopub.status.busy": "2022-04-20T02:47:34.279611Z",
     "iopub.status.idle": "2022-04-20T02:47:34.463603Z",
     "shell.execute_reply": "2022-04-20T02:47:34.462802Z",
     "shell.execute_reply.started": "2022-04-20T02:47:34.279812Z"
    },
    "jupyter": {
     "outputs_hidden": false
    }
   },
   "outputs": [],
   "source": [
    "#store all the image id here\n",
    "all_img_id=text_df['image'].values\n",
    "#store all the image path here\n",
    "all_img_vector= images + '/' + text_df['image']\n",
    "#store all the captions here\n",
    "annotations= text_df['caption'].values\n",
    "\n",
    "df = pd.DataFrame(list(zip(all_img_id, all_img_vector,annotations)),columns =['ID','Path', 'Captions']) \n",
    "    \n",
    "df"
   ]
  },
  {
   "cell_type": "code",
   "execution_count": 7,
   "metadata": {
    "_cell_guid": "e24ba3f9-13c7-41ce-98c4-ac81c8320ec8",
    "_uuid": "2445b33a-531c-41ce-b322-0acd00bcadca",
    "execution": {
     "iopub.execute_input": "2022-04-20T02:47:34.471320Z",
     "iopub.status.busy": "2022-04-20T02:47:34.469359Z",
     "iopub.status.idle": "2022-04-20T02:47:34.483744Z",
     "shell.execute_reply": "2022-04-20T02:47:34.483031Z",
     "shell.execute_reply.started": "2022-04-20T02:47:34.471280Z"
    },
    "jupyter": {
     "outputs_hidden": false
    },
    "scrolled": true
   },
   "outputs": [],
   "source": [
    "#Create a list which contains all the captions\n",
    "#add the <start> & <end> token to all those captions as well\n",
    "\n",
    "## will apply start and end tags later\n",
    "annotations = df['Captions'].tolist()\n",
    "print(annotations[:10])\n",
    "\n",
    "#Create a list which contains all the path to the images\n",
    "all_img_path = all_imgs\n",
    "\n",
    "print(\"Total captions present in the dataset: \"+ str(len(annotations)))\n",
    "print(\"Total images present in the dataset: \" + str(len(all_img_path)))"
   ]
  },
  {
   "cell_type": "code",
   "execution_count": 8,
   "metadata": {
    "execution": {
     "iopub.execute_input": "2022-04-20T02:47:34.490216Z",
     "iopub.status.busy": "2022-04-20T02:47:34.488307Z",
     "iopub.status.idle": "2022-04-20T02:47:35.079924Z",
     "shell.execute_reply": "2022-04-20T02:47:35.079226Z",
     "shell.execute_reply.started": "2022-04-20T02:47:34.490180Z"
    },
    "scrolled": true
   },
   "outputs": [],
   "source": [
    "#Create the vocabulary & the counter for the captions\n",
    "#removing punctuations and converting the words to lower case\n",
    "\n",
    "no_punct = [''.join(letter for letter in word if letter not in string.punctuation) for word in annotations]\n",
    "vocabulary= [word.lower() for line in no_punct for word in line.split()]\n",
    "\n",
    "val_count=Counter(vocabulary)\n",
    "val_count"
   ]
  },
  {
   "cell_type": "code",
   "execution_count": 9,
   "metadata": {
    "execution": {
     "iopub.execute_input": "2022-04-20T02:47:35.081791Z",
     "iopub.status.busy": "2022-04-20T02:47:35.081243Z",
     "iopub.status.idle": "2022-04-20T02:47:35.107675Z",
     "shell.execute_reply": "2022-04-20T02:47:35.106902Z",
     "shell.execute_reply.started": "2022-04-20T02:47:35.081751Z"
    }
   },
   "outputs": [],
   "source": [
    "#add the <start> & <end> token to all those captions as well\n",
    "\n",
    "annotations = df['Captions'].apply(lambda x : '<start> '+ x + ' <end>').tolist()\n",
    "annotations[:5]"
   ]
  },
  {
   "cell_type": "code",
   "execution_count": 10,
   "metadata": {
    "_cell_guid": "9120a39a-5303-4d97-a189-50b9ff6927d8",
    "_uuid": "16c87f64-647b-4ebc-814f-d6c0bb13ad46",
    "execution": {
     "iopub.execute_input": "2022-04-20T02:47:35.109409Z",
     "iopub.status.busy": "2022-04-20T02:47:35.109021Z",
     "iopub.status.idle": "2022-04-20T02:47:35.662800Z",
     "shell.execute_reply": "2022-04-20T02:47:35.661722Z",
     "shell.execute_reply.started": "2022-04-20T02:47:35.109261Z"
    },
    "jupyter": {
     "outputs_hidden": false
    }
   },
   "outputs": [],
   "source": [
    "#Visualise the top 30 occuring words in the captions\n",
    "top_30_words = val_count.most_common(30)\n",
    "print(top_30_words)\n",
    "\n",
    "word = []\n",
    "count = []\n",
    "for i in top_30_words:\n",
    "    word.append(i[0])\n",
    "    count.append(i[1])\n",
    "\n",
    "#plotting top 30 occuring words\n",
    "plt.figure(figsize=(20,10))\n",
    "plt.title('Top 30 occuring words in the captions', fontsize=15)\n",
    "plt.xlabel('words', fontsize = 15)\n",
    "plt.ylabel('word count', fontsize = 15)\n",
    "plot = sns.barplot(x=word, y=count, color = 'green')\n",
    "for p in plot.patches:\n",
    "    plot.annotate(format(int(p.get_height())), \n",
    "                   (p.get_x() + p.get_width() / 2., p.get_height()), \n",
    "                   ha = 'center')\n",
    "plt.show()"
   ]
  },
  {
   "cell_type": "markdown",
   "metadata": {
    "_cell_guid": "fa844680-53e7-4666-8c1d-82f32c2f9b4d",
    "_uuid": "66a47dd3-12db-4d44-b0fb-cf7c23319aed"
   },
   "source": [
    "## Pre-Processing the captions\n",
    "1.Create the tokenized vectors by tokenizing the captions fore ex :split them using spaces & other filters. \n",
    "This gives us a vocabulary of all of the unique words in the data. Keep the total vocaublary to top 5,000 words for saving memory.\n",
    "\n",
    "2.Replace all other words with the unknown token \"UNK\" .\n",
    "\n",
    "3.Create word-to-index and index-to-word mappings.\n",
    "\n",
    "4.Pad all sequences to be the same length as the longest one."
   ]
  },
  {
   "cell_type": "code",
   "execution_count": 11,
   "metadata": {
    "_cell_guid": "c0186c68-fff8-40c0-aa14-450e8e1f8313",
    "_uuid": "99d36547-8e0b-48c6-82c3-2a68576f687d",
    "execution": {
     "iopub.execute_input": "2022-04-20T02:47:35.664820Z",
     "iopub.status.busy": "2022-04-20T02:47:35.664317Z",
     "iopub.status.idle": "2022-04-20T02:47:37.023928Z",
     "shell.execute_reply": "2022-04-20T02:47:37.023246Z",
     "shell.execute_reply.started": "2022-04-20T02:47:35.664781Z"
    },
    "jupyter": {
     "outputs_hidden": false
    }
   },
   "outputs": [],
   "source": [
    "# create the tokenizer\n",
    "\n",
    "top_vocab = 5000\n",
    "special_chars = '!\"#$%&()*+.,-/:;=?@[\\]^_`{|}~ '\n",
    "tokenizer = Tokenizer(num_words=top_vocab,\n",
    "                      lower = True, \n",
    "                      split = \" \", \n",
    "                      char_level = False,\n",
    "                      oov_token=\"<unk>\",\n",
    "                      filters=special_chars)\n",
    "\n",
    "#fit the tokenizer on words in dataset\n",
    "tokenizer.fit_on_texts(annotations)\n",
    "\n",
    "# Converting each text in texts to a sequence of integers.\n",
    "text_sequences = tokenizer.texts_to_sequences(annotations)\n",
    "text_sequences[:5]"
   ]
  },
  {
   "cell_type": "code",
   "execution_count": 12,
   "metadata": {
    "_cell_guid": "657a3db2-7220-4d0e-9617-c3a7f39d36ad",
    "_uuid": "90249135-1c6a-4518-9a26-36b33b230a52",
    "execution": {
     "iopub.execute_input": "2022-04-20T02:47:37.025561Z",
     "iopub.status.busy": "2022-04-20T02:47:37.025287Z",
     "iopub.status.idle": "2022-04-20T02:47:37.032064Z",
     "shell.execute_reply": "2022-04-20T02:47:37.031153Z",
     "shell.execute_reply.started": "2022-04-20T02:47:37.025527Z"
    },
    "jupyter": {
     "outputs_hidden": false
    }
   },
   "outputs": [],
   "source": [
    "# Create word-to-index and index-to-word mappings.\n",
    "\n",
    "word2index = tokenizer.word_index\n",
    "index2word = tokenizer.index_word\n",
    "\n",
    "print('Index for the word ',\"a is\", word2index[\"a\"])\n",
    "print('Word for the index : 5 is ', index2word[5])\n",
    "\n",
    "tokenizer.word_index['<pad>'] = 0\n",
    "tokenizer.index_word[0] = '<pad>'\n"
   ]
  },
  {
   "cell_type": "code",
   "execution_count": 13,
   "metadata": {
    "_cell_guid": "07ddcd88-92e4-453f-bee0-b7683875d09d",
    "_uuid": "df1218a1-4012-4fb7-a5e5-9712b5918a96",
    "execution": {
     "iopub.execute_input": "2022-04-20T02:47:37.039089Z",
     "iopub.status.busy": "2022-04-20T02:47:37.038371Z",
     "iopub.status.idle": "2022-04-20T02:47:37.587495Z",
     "shell.execute_reply": "2022-04-20T02:47:37.586719Z",
     "shell.execute_reply.started": "2022-04-20T02:47:37.039052Z"
    },
    "jupyter": {
     "outputs_hidden": false
    }
   },
   "outputs": [],
   "source": [
    "# Create a word count of your tokenizer to visulize the Top 30 occuring words after text processing\n",
    "\n",
    "word_counts = tokenizer.word_counts\n",
    "df_word_counts = pd.DataFrame.from_dict(word_counts, orient = 'index',columns=['count'])\n",
    "\n",
    "top_30 = df_word_counts.sort_values(by='count', ascending=False)[:30]\n",
    "\n",
    "#plotting top 30 occuring words\n",
    "plt.figure(figsize=(20,10))\n",
    "plt.title('Top 30 occuring words after text processing', fontsize=15)\n",
    "plt.xlabel('words', fontsize = 15)\n",
    "plt.ylabel('word count', fontsize = 15)\n",
    "plot = sns.barplot(x=top_30.index, y=top_30['count'], color = 'green')\n",
    "for p in plot.patches:\n",
    "    plot.annotate(format(int(p.get_height())), \n",
    "                   (p.get_x() + p.get_width() / 2., p.get_height()), \n",
    "                   ha = 'center')\n",
    "plt.show()"
   ]
  },
  {
   "cell_type": "code",
   "execution_count": 14,
   "metadata": {
    "execution": {
     "iopub.execute_input": "2022-04-20T02:47:37.589097Z",
     "iopub.status.busy": "2022-04-20T02:47:37.588761Z",
     "iopub.status.idle": "2022-04-20T02:47:37.599126Z",
     "shell.execute_reply": "2022-04-20T02:47:37.598124Z",
     "shell.execute_reply.started": "2022-04-20T02:47:37.589058Z"
    }
   },
   "outputs": [],
   "source": [
    "#finding max length of caption\n",
    "max_len = max([len(text) for text in text_sequences])\n",
    "print(\"shape of caption vector: \", len(text_sequences))\n",
    "print(\"Maximum length of sequence: \",max_len)"
   ]
  },
  {
   "cell_type": "code",
   "execution_count": 15,
   "metadata": {
    "_cell_guid": "fb9dd944-8ab6-4c3c-bd7b-ac43836e9f0f",
    "_uuid": "a30639e8-6631-43e0-961a-153398fc076b",
    "execution": {
     "iopub.execute_input": "2022-04-20T02:47:37.601409Z",
     "iopub.status.busy": "2022-04-20T02:47:37.600337Z",
     "iopub.status.idle": "2022-04-20T02:47:37.828405Z",
     "shell.execute_reply": "2022-04-20T02:47:37.827585Z",
     "shell.execute_reply.started": "2022-04-20T02:47:37.601356Z"
    },
    "jupyter": {
     "outputs_hidden": false
    }
   },
   "outputs": [],
   "source": [
    "# Pad each vector to the max_length of the captions ^ store it to a vairable\n",
    "\n",
    "cap_vector=tf.keras.preprocessing.sequence.pad_sequences(text_sequences,padding='post',maxlen=max_len)\n",
    "\n",
    "print(\"The shape of Caption vector is :\" + str(cap_vector.shape))"
   ]
  },
  {
   "cell_type": "markdown",
   "metadata": {
    "_cell_guid": "e64fefd1-236e-4b3a-a539-bc59943d1786",
    "_uuid": "3767f840-2f96-4a7e-94e9-944f10a9eea8"
   },
   "source": [
    "## Pre-processing the images\n",
    "\n",
    "1.Resize them into the shape of (299, 299)\n",
    "\n",
    "3.Normalize the image within the range of -1 to 1, such that it is in correct format for InceptionV3."
   ]
  },
  {
   "cell_type": "markdown",
   "metadata": {},
   "source": [
    "### FAQs on how to resize the images::\n",
    "* Since you have a list which contains all the image path, you need to first convert them to a dataset using <i>tf.data.Dataset.from_tensor_slices</i>. Once you have created a dataset consisting of image paths, you need to apply a function to the dataset which will apply the necessary preprocessing to each image. \n",
    "* This function should resize them and also should do the necessary preprocessing that it is in correct format for InceptionV3."
   ]
  },
  {
   "cell_type": "code",
   "execution_count": 16,
   "metadata": {
    "execution": {
     "iopub.execute_input": "2022-04-20T02:47:37.830128Z",
     "iopub.status.busy": "2022-04-20T02:47:37.829891Z",
     "iopub.status.idle": "2022-04-20T02:47:38.801972Z",
     "shell.execute_reply": "2022-04-20T02:47:38.801205Z",
     "shell.execute_reply.started": "2022-04-20T02:47:37.830095Z"
    }
   },
   "outputs": [],
   "source": [
    "#write your code here to create the dataset consisting of image paths\n",
    "\n",
    "#sorting and storing the unique paths in a list\n",
    "unique_img_path = sorted(set(all_img_vector))\n",
    "\n",
    "image_dataset = tf.data.Dataset.from_tensor_slices(unique_img_path)"
   ]
  },
  {
   "cell_type": "code",
   "execution_count": 17,
   "metadata": {
    "execution": {
     "iopub.execute_input": "2022-04-20T02:47:38.803849Z",
     "iopub.status.busy": "2022-04-20T02:47:38.803327Z",
     "iopub.status.idle": "2022-04-20T02:47:38.810225Z",
     "shell.execute_reply": "2022-04-20T02:47:38.809443Z",
     "shell.execute_reply.started": "2022-04-20T02:47:38.803811Z"
    }
   },
   "outputs": [],
   "source": [
    "#checking image data format\n",
    "tf.keras.backend.image_data_format() "
   ]
  },
  {
   "cell_type": "markdown",
   "metadata": {},
   "source": [
    "image data format 'channel_last' indicates the images are in 3D array where the third dimention is color channel"
   ]
  },
  {
   "cell_type": "code",
   "execution_count": 18,
   "metadata": {
    "_cell_guid": "d4a796e9-c75a-432a-af2c-e68ac1b25796",
    "_uuid": "e965031f-676a-45d5-b9f9-cd9f7e3b1905",
    "execution": {
     "iopub.execute_input": "2022-04-20T02:47:38.812142Z",
     "iopub.status.busy": "2022-04-20T02:47:38.811878Z",
     "iopub.status.idle": "2022-04-20T02:47:38.819454Z",
     "shell.execute_reply": "2022-04-20T02:47:38.818638Z",
     "shell.execute_reply.started": "2022-04-20T02:47:38.812108Z"
    },
    "jupyter": {
     "outputs_hidden": false
    }
   },
   "outputs": [],
   "source": [
    "#write your code here for creating the function. This function should return images & their path\n",
    "IMAGE_SHAPE = (299, 299)\n",
    "def load_image(image_path):\n",
    "    #write your pre-processing steps here\n",
    "    img = tf.io.read_file(image_path)\n",
    "    img = tf.image.decode_jpeg(img, channels=3)\n",
    "    img = tf.image.resize(img, IMAGE_SHAPE)\n",
    "    img = tf.keras.applications.inception_v3.preprocess_input(img)\n",
    "    return img, image_path"
   ]
  },
  {
   "cell_type": "code",
   "execution_count": 19,
   "metadata": {
    "_cell_guid": "391d1266-1d68-45ef-9cbf-b86f5b1ca4f8",
    "_uuid": "edd2e51f-b76b-4030-85a9-132eae27aefb",
    "execution": {
     "iopub.execute_input": "2022-04-20T02:47:38.822786Z",
     "iopub.status.busy": "2022-04-20T02:47:38.821846Z",
     "iopub.status.idle": "2022-04-20T02:47:38.907956Z",
     "shell.execute_reply": "2022-04-20T02:47:38.907226Z",
     "shell.execute_reply.started": "2022-04-20T02:47:38.822748Z"
    },
    "jupyter": {
     "outputs_hidden": false
    }
   },
   "outputs": [],
   "source": [
    "#write your code here for applying the function to the image path dataset, such that the transformed dataset should contain images & their path\n",
    "\n",
    "image_dataset = image_dataset.map(load_image, num_parallel_calls=tf.data.experimental.AUTOTUNE).batch(32)\n",
    "image_dataset"
   ]
  },
  {
   "cell_type": "markdown",
   "metadata": {},
   "source": [
    "## Load the pretrained Imagenet weights of Inception net V3\n",
    "\n",
    "1.To save the memory(RAM) from getting exhausted, extract the features of the images using the last layer of pre-trained model. Including this as part of training will lead to higher computational time.\n",
    "\n",
    "2.The shape of the output of this layer is 8x8x2048. \n",
    "\n",
    "3.Use a function to extract the features of each image in the train & test dataset such that the shape of each image should be (batch_size, 8*8, 2048)"
   ]
  },
  {
   "cell_type": "code",
   "execution_count": 20,
   "metadata": {
    "_cell_guid": "7a75534f-b397-4a00-8ec1-9540a3897db1",
    "_uuid": "67c19e21-6aef-48b6-848f-f84389ac10f4",
    "execution": {
     "iopub.execute_input": "2022-04-20T02:47:38.909694Z",
     "iopub.status.busy": "2022-04-20T02:47:38.909233Z",
     "iopub.status.idle": "2022-04-20T02:47:40.816559Z",
     "shell.execute_reply": "2022-04-20T02:47:40.815783Z",
     "shell.execute_reply.started": "2022-04-20T02:47:38.909655Z"
    },
    "jupyter": {
     "outputs_hidden": false
    }
   },
   "outputs": [],
   "source": [
    "image_model = tf.keras.applications.InceptionV3(include_top=False,weights='imagenet')\n",
    "\n",
    "#write code here to get the input of the image_model\n",
    "new_input = image_model.input \n",
    "#write code here to get the output of the image_model\n",
    "hidden_layer = image_model.layers[-1].output \n",
    "\n",
    "#build the final model using both input & output layer\n",
    "image_features_extract_model = keras.Model(new_input, hidden_layer) "
   ]
  },
  {
   "cell_type": "code",
   "execution_count": 21,
   "metadata": {
    "_cell_guid": "d49b3a82-d091-4719-8397-8190a5a6babb",
    "_uuid": "d52d5eb3-2c31-4498-b45a-626629746021",
    "execution": {
     "iopub.execute_input": "2022-04-20T02:47:40.818195Z",
     "iopub.status.busy": "2022-04-20T02:47:40.817930Z",
     "iopub.status.idle": "2022-04-20T02:47:40.953848Z",
     "shell.execute_reply": "2022-04-20T02:47:40.953057Z",
     "shell.execute_reply.started": "2022-04-20T02:47:40.818159Z"
    },
    "jupyter": {
     "outputs_hidden": false
    },
    "scrolled": true
   },
   "outputs": [],
   "source": [
    "image_features_extract_model.summary()"
   ]
  },
  {
   "cell_type": "code",
   "execution_count": 22,
   "metadata": {
    "_cell_guid": "6ad18544-1bca-4ed4-ac9a-422f514384a9",
    "_uuid": "ec0724ec-f46e-488a-ad51-a25e5eefa000",
    "execution": {
     "iopub.execute_input": "2022-04-20T02:47:40.956534Z",
     "iopub.status.busy": "2022-04-20T02:47:40.955176Z",
     "iopub.status.idle": "2022-04-20T02:48:24.703452Z",
     "shell.execute_reply": "2022-04-20T02:48:24.702694Z",
     "shell.execute_reply.started": "2022-04-20T02:47:40.956491Z"
    },
    "jupyter": {
     "outputs_hidden": false
    }
   },
   "outputs": [],
   "source": [
    "# write the code to apply the feature_extraction model to your earlier created dataset which contained images & their respective paths\n",
    "# Once the features are created, you need to reshape them such that feature shape is in order of (batch_size, 8*8, 2048)\n",
    "feature_dict = {}\n",
    "\n",
    "for image,path in tqdm(image_dataset):\n",
    "    batch_features = image_features_extract_model(image)\n",
    "    batch_features = tf.reshape(batch_features,(batch_features.shape[0], -1, batch_features.shape[3]))\n",
    "    for batch_f, p in zip(batch_features, path):\n",
    "        path_of_feature = p.numpy().decode(\"utf-8\")\n",
    "        feature_dict[path_of_feature] =  batch_f.numpy()"
   ]
  },
  {
   "cell_type": "code",
   "execution_count": 23,
   "metadata": {
    "_cell_guid": "28b47262-5a18-4e71-93c7-634513dd4819",
    "_uuid": "313be8a1-01df-4c46-8550-23b0d6afa347",
    "execution": {
     "iopub.execute_input": "2022-04-20T02:48:24.705175Z",
     "iopub.status.busy": "2022-04-20T02:48:24.704643Z",
     "iopub.status.idle": "2022-04-20T02:48:24.711117Z",
     "shell.execute_reply": "2022-04-20T02:48:24.710437Z",
     "shell.execute_reply.started": "2022-04-20T02:48:24.705133Z"
    },
    "jupyter": {
     "outputs_hidden": false
    }
   },
   "outputs": [],
   "source": [
    "batch_f.shape"
   ]
  },
  {
   "cell_type": "markdown",
   "metadata": {},
   "source": [
    "### FAQs on how to store the features:\n",
    "* You can store the features using a dictionary with the path as the key and values as the feature extracted by the inception net v3 model OR\n",
    "* You can store using numpy(np.save) to store the resulting vector."
   ]
  },
  {
   "cell_type": "markdown",
   "metadata": {},
   "source": [
    "## Dataset creation\n",
    "1.Apply train_test_split on both image path & captions to create the train & test list. Create the train-test spliit using 80-20 ratio & random state = 42\n",
    "\n",
    "2.Create a function which maps the image path to their feature. \n",
    "\n",
    "3.Create a builder function to create train & test dataset & apply the function created earlier to transform the dataset\n",
    "\n",
    "2.Make sure you have done Shuffle and batch while building the dataset\n",
    "\n",
    "3.The shape of each image in the dataset after building should be (batch_size, 8*8, 2048)\n",
    "\n",
    "4.The shape of each caption in the dataset after building should be(batch_size, max_len)"
   ]
  },
  {
   "cell_type": "code",
   "execution_count": 24,
   "metadata": {
    "execution": {
     "iopub.execute_input": "2022-04-20T02:48:24.712682Z",
     "iopub.status.busy": "2022-04-20T02:48:24.712239Z",
     "iopub.status.idle": "2022-04-20T02:48:24.733779Z",
     "shell.execute_reply": "2022-04-20T02:48:24.733106Z",
     "shell.execute_reply.started": "2022-04-20T02:48:24.712645Z"
    }
   },
   "outputs": [],
   "source": [
    "#write your code here\n",
    "path_train, path_test, cap_train, cap_test = train_test_split(all_img_vector,\n",
    "                                                                        cap_vector,\n",
    "                                                                        test_size=0.2,\n",
    "                                                                        random_state=42)"
   ]
  },
  {
   "cell_type": "code",
   "execution_count": 25,
   "metadata": {
    "execution": {
     "iopub.execute_input": "2022-04-20T02:48:24.735263Z",
     "iopub.status.busy": "2022-04-20T02:48:24.734956Z",
     "iopub.status.idle": "2022-04-20T02:48:24.741339Z",
     "shell.execute_reply": "2022-04-20T02:48:24.740542Z",
     "shell.execute_reply.started": "2022-04-20T02:48:24.735227Z"
    }
   },
   "outputs": [],
   "source": [
    "print(\"Training data for images: \" + str(len(path_train)))\n",
    "print(\"Testing data for images: \" + str(len(path_test)))\n",
    "print(\"Training data for Captions: \" + str(len(cap_train)))\n",
    "print(\"Testing data for Captions: \" + str(len(cap_test)))"
   ]
  },
  {
   "cell_type": "code",
   "execution_count": 26,
   "metadata": {
    "execution": {
     "iopub.execute_input": "2022-04-20T02:48:24.743459Z",
     "iopub.status.busy": "2022-04-20T02:48:24.742509Z",
     "iopub.status.idle": "2022-04-20T02:48:24.750824Z",
     "shell.execute_reply": "2022-04-20T02:48:24.750013Z",
     "shell.execute_reply.started": "2022-04-20T02:48:24.743271Z"
    }
   },
   "outputs": [],
   "source": [
    "# Create a function which maps the image path to their feature. \n",
    "# This function will take the image_path & caption and return it's feature & respective caption.\n",
    "\n",
    "def map_func(image_name,caption):\n",
    "    # write your code here to extract the features from the dictionary stored earlier\n",
    "    image_tensor = feature_dict[image_name.decode('utf-8')]\n",
    "    return image_tensor,caption"
   ]
  },
  {
   "cell_type": "markdown",
   "metadata": {},
   "source": [
    "### FAQs on how to load the features:\n",
    "* You can load the features using the dictionary created earlier OR\n",
    "* You can store using numpy(np.load) to load the feature vector."
   ]
  },
  {
   "cell_type": "code",
   "execution_count": 27,
   "metadata": {
    "_cell_guid": "da6d43e8-f3d2-4e75-8f73-912e7e6c8d6d",
    "_uuid": "16ac01f8-b601-4e91-b6b4-1291c74d4b93",
    "execution": {
     "iopub.execute_input": "2022-04-20T02:48:24.752612Z",
     "iopub.status.busy": "2022-04-20T02:48:24.752338Z",
     "iopub.status.idle": "2022-04-20T02:48:24.765954Z",
     "shell.execute_reply": "2022-04-20T02:48:24.765167Z",
     "shell.execute_reply.started": "2022-04-20T02:48:24.752579Z"
    },
    "jupyter": {
     "outputs_hidden": false
    }
   },
   "outputs": [],
   "source": [
    "# create a builder function to create dataset which takes in the image path & captions as input\n",
    "# This function should transform the created dataset(img_path,cap) to (features,cap) using the map_func created earlier\n",
    "\n",
    "BATCH_SIZE = 32\n",
    "BUFFER_SIZE = 1000\n",
    "def gen_dataset(images_data, captions_data):\n",
    "    \n",
    "    # your code goes here to create the dataset & transform it\n",
    "    dataset = tf.data.Dataset.from_tensor_slices((images_data, captions_data))\n",
    "    dataset = dataset.shuffle(BUFFER_SIZE)\n",
    "\n",
    "    dataset = dataset.map(lambda item1, item2: tf.numpy_function(map_func, [item1, item2], [tf.float32, tf.int32]),\n",
    "                          num_parallel_calls=tf.data.experimental.AUTOTUNE).batch(BATCH_SIZE)\n",
    "\n",
    "    dataset = dataset.prefetch(buffer_size=tf.data.experimental.AUTOTUNE)\n",
    "    return dataset"
   ]
  },
  {
   "cell_type": "code",
   "execution_count": 28,
   "metadata": {
    "_cell_guid": "113e911e-6e05-4d10-bb39-f7d6012e3760",
    "_uuid": "aebe712c-b341-4452-a1d1-c0699ef0539a",
    "execution": {
     "iopub.execute_input": "2022-04-20T02:48:24.768979Z",
     "iopub.status.busy": "2022-04-20T02:48:24.768794Z",
     "iopub.status.idle": "2022-04-20T02:48:24.824369Z",
     "shell.execute_reply": "2022-04-20T02:48:24.823678Z",
     "shell.execute_reply.started": "2022-04-20T02:48:24.768958Z"
    },
    "jupyter": {
     "outputs_hidden": false
    }
   },
   "outputs": [],
   "source": [
    "train_dataset=gen_dataset(path_train,cap_train)\n",
    "test_dataset=gen_dataset(path_test,cap_test)"
   ]
  },
  {
   "cell_type": "code",
   "execution_count": 29,
   "metadata": {
    "_cell_guid": "b9bbf152-1dee-4576-9708-5833d22079a9",
    "_uuid": "a4b26cc6-5823-4e96-b467-be38b64f7a5c",
    "execution": {
     "iopub.execute_input": "2022-04-20T02:48:24.827553Z",
     "iopub.status.busy": "2022-04-20T02:48:24.827294Z",
     "iopub.status.idle": "2022-04-20T02:48:24.861503Z",
     "shell.execute_reply": "2022-04-20T02:48:24.860706Z",
     "shell.execute_reply.started": "2022-04-20T02:48:24.827525Z"
    },
    "jupyter": {
     "outputs_hidden": false
    }
   },
   "outputs": [],
   "source": [
    "sample_img_batch, sample_cap_batch = next(iter(train_dataset))\n",
    "print(sample_img_batch.shape)  #(batch_size, 8*8, 2048)\n",
    "print(sample_cap_batch.shape) #(batch_size,40)"
   ]
  },
  {
   "cell_type": "markdown",
   "metadata": {
    "_cell_guid": "3500b448-e9a7-45e4-ae42-08ca32cee8ff",
    "_uuid": "6045caf7-9548-4a97-9366-41f971815bb8"
   },
   "source": [
    "## Model Building\n",
    "1.Set the parameters\n",
    "\n",
    "2.Build the Encoder, Attention model & Decoder"
   ]
  },
  {
   "cell_type": "code",
   "execution_count": 30,
   "metadata": {
    "_cell_guid": "0a0cdebb-6e19-4e88-b3f6-9076d10f9b80",
    "_uuid": "b311d6ac-93cc-4a15-81f9-18492947d3c4",
    "execution": {
     "iopub.execute_input": "2022-04-20T02:48:24.863224Z",
     "iopub.status.busy": "2022-04-20T02:48:24.862963Z",
     "iopub.status.idle": "2022-04-20T02:48:24.869612Z",
     "shell.execute_reply": "2022-04-20T02:48:24.868712Z",
     "shell.execute_reply.started": "2022-04-20T02:48:24.863190Z"
    },
    "jupyter": {
     "outputs_hidden": false
    }
   },
   "outputs": [],
   "source": [
    "embedding_dim = 256 \n",
    "units = 512\n",
    "vocab_size = 5001 #top 5,000 words +1\n",
    "train_num_steps = len(path_train) // BATCH_SIZE #len(total train images)\n",
    "test_num_steps = len(path_test) // BATCH_SIZE #len(total test images)\n",
    "\n",
    "print('number of training steps: ', train_num_steps)\n",
    "print('number of test steps: ', test_num_steps)"
   ]
  },
  {
   "cell_type": "markdown",
   "metadata": {
    "_cell_guid": "236a7658-68b5-4dc1-99c9-98889446ae7a",
    "_uuid": "f7610a33-188a-437b-8486-764ff33b7f6d"
   },
   "source": [
    "### Encoder"
   ]
  },
  {
   "cell_type": "code",
   "execution_count": 31,
   "metadata": {
    "_cell_guid": "85b8eb96-6ec6-49f2-a414-6c63d1c538ee",
    "_uuid": "ace8642a-8772-4f81-9f2b-d3d6e06e7a5a",
    "execution": {
     "iopub.execute_input": "2022-04-20T02:48:24.871715Z",
     "iopub.status.busy": "2022-04-20T02:48:24.871113Z",
     "iopub.status.idle": "2022-04-20T02:48:24.879302Z",
     "shell.execute_reply": "2022-04-20T02:48:24.878539Z",
     "shell.execute_reply.started": "2022-04-20T02:48:24.871677Z"
    },
    "jupyter": {
     "outputs_hidden": false
    }
   },
   "outputs": [],
   "source": [
    "class Encoder(Model):\n",
    "    def __init__(self,embed_dim):\n",
    "        super(Encoder, self).__init__()\n",
    "        #build your Dense layer with relu activation\n",
    "        self.dense = tf.keras.layers.Dense(embed_dim , activation='relu')\n",
    "        \n",
    "    def call(self, features):\n",
    "        # extract the features from the image shape: (batch, 8*8, embed_dim)\n",
    "        features =  self.dense(features)\n",
    "        features =  tf.keras.activations.relu(features, alpha=0.01, max_value=None, threshold=0)\n",
    "        return features"
   ]
  },
  {
   "cell_type": "code",
   "execution_count": 32,
   "metadata": {
    "_cell_guid": "9b2b03fb-f91f-45f9-9051-f0d0c3ab9fee",
    "_uuid": "dc6b5217-0596-4da4-aa78-71c037a280f2",
    "execution": {
     "iopub.execute_input": "2022-04-20T02:48:24.881013Z",
     "iopub.status.busy": "2022-04-20T02:48:24.880656Z",
     "iopub.status.idle": "2022-04-20T02:48:24.895034Z",
     "shell.execute_reply": "2022-04-20T02:48:24.894318Z",
     "shell.execute_reply.started": "2022-04-20T02:48:24.880977Z"
    },
    "jupyter": {
     "outputs_hidden": false
    }
   },
   "outputs": [],
   "source": [
    "encoder=Encoder(embedding_dim)"
   ]
  },
  {
   "cell_type": "markdown",
   "metadata": {
    "_cell_guid": "e6326411-778b-40e5-88ed-71d24f44795f",
    "_uuid": "a8e4674f-30bf-4892-97ef-5092dc0d6e2f"
   },
   "source": [
    "### Attention model"
   ]
  },
  {
   "cell_type": "code",
   "execution_count": 33,
   "metadata": {
    "_cell_guid": "6f37dff1-07fc-4493-9058-3c40844498c0",
    "_uuid": "60a5208b-4d1e-44b7-9d28-890b397b0aee",
    "execution": {
     "iopub.execute_input": "2022-04-20T02:48:24.897975Z",
     "iopub.status.busy": "2022-04-20T02:48:24.897749Z",
     "iopub.status.idle": "2022-04-20T02:48:24.907402Z",
     "shell.execute_reply": "2022-04-20T02:48:24.906610Z",
     "shell.execute_reply.started": "2022-04-20T02:48:24.897946Z"
    },
    "jupyter": {
     "outputs_hidden": false
    }
   },
   "outputs": [],
   "source": [
    "class Attention_model(Model):\n",
    "    def __init__(self, units):\n",
    "        super(Attention_model, self).__init__()\n",
    "        self.W1 = tf.keras.layers.Dense(units) #build your Dense layer\n",
    "        self.W2 = tf.keras.layers.Dense(units) #build your Dense layer\n",
    "        self.V = tf.keras.layers.Dense(1) #build your final Dense layer with unit 1\n",
    "        self.units=units\n",
    "\n",
    "    def call(self, features, hidden):\n",
    "        #features shape: (batch_size, 8*8, embedding_dim)\n",
    "        # hidden shape: (batch_size, hidden_size)\n",
    "        # Expand the hidden shape to shape: (batch_size, 1, hidden_size)\n",
    "        hidden_with_time_axis =  tf.expand_dims(hidden, 1)\n",
    "        # build your score funciton to shape: (batch_size, 8*8, units)\n",
    "        score = tf.keras.activations.tanh(self.W1(features) + self.W2(hidden_with_time_axis))\n",
    "        # extract your attention weights with shape: (batch_size, 8*8, 1)\n",
    "        attention_weights =  tf.keras.activations.softmax(self.V(score), axis=1)\n",
    "        #shape: create the context vector with shape (batch_size, 8*8,embedding_dim)\n",
    "        context_vector = attention_weights * features\n",
    "        # reduce the shape to (batch_size, embedding_dim)\n",
    "        context_vector = tf.reduce_sum(context_vector, axis=1)\n",
    "        \n",
    "\n",
    "        return context_vector, attention_weights"
   ]
  },
  {
   "cell_type": "markdown",
   "metadata": {
    "_cell_guid": "2cc0ff9d-1a12-4699-9c61-bb65f45d1dc0",
    "_uuid": "aaee0e1b-8ce7-4b0e-bc46-386c0baac2d7"
   },
   "source": [
    "### Decoder"
   ]
  },
  {
   "cell_type": "code",
   "execution_count": 34,
   "metadata": {
    "_cell_guid": "f1cbcea7-17a1-47a7-bf0f-88bd44d27b72",
    "_uuid": "7979df2c-abe8-4036-b6bc-aceb77c8b17e",
    "execution": {
     "iopub.execute_input": "2022-04-20T02:48:24.910640Z",
     "iopub.status.busy": "2022-04-20T02:48:24.910406Z",
     "iopub.status.idle": "2022-04-20T02:48:24.920523Z",
     "shell.execute_reply": "2022-04-20T02:48:24.919629Z",
     "shell.execute_reply.started": "2022-04-20T02:48:24.910617Z"
    },
    "jupyter": {
     "outputs_hidden": false
    }
   },
   "outputs": [],
   "source": [
    "class Decoder(Model):\n",
    "    def __init__(self, embed_dim, units, vocab_size):\n",
    "        super(Decoder, self).__init__()\n",
    "        self.units=units\n",
    "        #initalise your Attention model with units\n",
    "        self.attention = Attention_model(self.units)\n",
    "        #build your Embedding layer\n",
    "        self.embed = tf.keras.layers.Embedding(vocab_size, embed_dim)\n",
    "        self.gru = tf.keras.layers.GRU(self.units,return_sequences=True,return_state=True,recurrent_initializer='glorot_uniform')\n",
    "        self.d1 = tf.keras.layers.Dense(self.units) #build your Dense layer\n",
    "        self.d2 = tf.keras.layers.Dense(vocab_size)  #build your Dense layer \n",
    "\n",
    "    def call(self,x,features, hidden):\n",
    "        #create your context vector & attention weights from attention model\n",
    "        context_vector, attention_weights = self.attention(features, hidden)\n",
    "        # embed your input to shape: (batch_size, 1, embedding_dim)\n",
    "        embed =  self.embed(x)\n",
    "        # Concatenate your input with the context vector from attention layer. Shape: (batch_size, 1, embedding_dim + embedding_dim)\n",
    "        embed = tf.concat([tf.expand_dims(context_vector, 1), embed], axis = -1)\n",
    "        # Extract the output & hidden state from GRU layer. Output shape : (batch_size, max_length, hidden_size)\n",
    "        output,state = self.gru(embed)\n",
    "        output = self.d1(output)\n",
    "        output = tf.reshape(output, (-1, output.shape[2])) # shape : (batch_size * max_length, hidden_size)\n",
    "        output = self.d2(output) # shape : (batch_size * max_length, vocab_size)\n",
    "\n",
    "        return output,state, attention_weights\n",
    "    \n",
    "    def init_state(self, batch_size):\n",
    "        return tf.zeros((batch_size, self.units))"
   ]
  },
  {
   "cell_type": "code",
   "execution_count": 35,
   "metadata": {
    "_cell_guid": "073154a5-76df-4c1e-b076-9686f2e757c3",
    "_uuid": "8bedae60-d138-4323-8406-7ad9b76fb26e",
    "execution": {
     "iopub.execute_input": "2022-04-20T02:48:24.922494Z",
     "iopub.status.busy": "2022-04-20T02:48:24.921990Z",
     "iopub.status.idle": "2022-04-20T02:48:24.945740Z",
     "shell.execute_reply": "2022-04-20T02:48:24.945097Z",
     "shell.execute_reply.started": "2022-04-20T02:48:24.922459Z"
    },
    "jupyter": {
     "outputs_hidden": false
    }
   },
   "outputs": [],
   "source": [
    "decoder=Decoder(embedding_dim, units, vocab_size)"
   ]
  },
  {
   "cell_type": "code",
   "execution_count": 36,
   "metadata": {
    "_cell_guid": "04fefb04-baf8-4487-b030-5eb0e681a4ff",
    "_uuid": "db1860f0-16aa-4d98-a389-7c81fb56eb0e",
    "execution": {
     "iopub.execute_input": "2022-04-20T02:48:24.947759Z",
     "iopub.status.busy": "2022-04-20T02:48:24.947220Z",
     "iopub.status.idle": "2022-04-20T02:48:25.180160Z",
     "shell.execute_reply": "2022-04-20T02:48:25.179401Z",
     "shell.execute_reply.started": "2022-04-20T02:48:24.947720Z"
    },
    "jupyter": {
     "outputs_hidden": false
    }
   },
   "outputs": [],
   "source": [
    "features=encoder(sample_img_batch)\n",
    "\n",
    "hidden = decoder.init_state(batch_size=sample_cap_batch.shape[0])\n",
    "dec_input = tf.expand_dims([tokenizer.word_index['<start>']] * sample_cap_batch.shape[0], 1)\n",
    "\n",
    "predictions, hidden_out, attention_weights= decoder(dec_input, features, hidden)\n",
    "print('Feature shape from Encoder: {}'.format(features.shape)) \n",
    "print('Predcitions shape from Decoder: {}'.format(predictions.shape)) \n",
    "print('Attention weights shape from Decoder: {}'.format(attention_weights.shape))"
   ]
  },
  {
   "cell_type": "markdown",
   "metadata": {
    "_cell_guid": "28dc015f-6487-4c04-a4bc-f1a7c9fba128",
    "_uuid": "e23b37f7-ee8e-486f-9f1a-2c7cecd0c06d"
   },
   "source": [
    "## Model training & optimization\n",
    "1.Set the optimizer & loss object\n",
    "\n",
    "2.Create your checkpoint path\n",
    "\n",
    "3.Create your training & testing step functions\n",
    "\n",
    "4.Create your loss function for the test dataset"
   ]
  },
  {
   "cell_type": "code",
   "execution_count": 37,
   "metadata": {
    "_cell_guid": "f182782b-bb60-4720-ac1e-33843adf52cb",
    "_uuid": "0efeee98-012b-47f5-bee2-0449c7cf4bac",
    "execution": {
     "iopub.execute_input": "2022-04-20T02:48:25.181910Z",
     "iopub.status.busy": "2022-04-20T02:48:25.181502Z",
     "iopub.status.idle": "2022-04-20T02:48:25.186960Z",
     "shell.execute_reply": "2022-04-20T02:48:25.186118Z",
     "shell.execute_reply.started": "2022-04-20T02:48:25.181872Z"
    },
    "jupyter": {
     "outputs_hidden": false
    }
   },
   "outputs": [],
   "source": [
    "#define the optimizer\n",
    "optimizer = tf.keras.optimizers.Adam()\n",
    "#define your loss object\n",
    "loss_object = keras.losses.SparseCategoricalCrossentropy(from_logits=True, reduction='none')"
   ]
  },
  {
   "cell_type": "code",
   "execution_count": 38,
   "metadata": {
    "_cell_guid": "09fbd55e-7510-49e1-b540-0925dd685be1",
    "_uuid": "f19ba8fa-2f78-4660-b570-418885bf83e0",
    "execution": {
     "iopub.execute_input": "2022-04-20T02:48:25.188747Z",
     "iopub.status.busy": "2022-04-20T02:48:25.188502Z",
     "iopub.status.idle": "2022-04-20T02:48:25.195516Z",
     "shell.execute_reply": "2022-04-20T02:48:25.194705Z",
     "shell.execute_reply.started": "2022-04-20T02:48:25.188716Z"
    },
    "jupyter": {
     "outputs_hidden": false
    }
   },
   "outputs": [],
   "source": [
    "def loss_function(real, pred):\n",
    "    mask = tf.math.logical_not(tf.math.equal(real, 0))\n",
    "    loss_ = loss_object(real, pred)\n",
    "    \n",
    "    mask = tf.cast(mask, dtype=loss_.dtype)\n",
    "    loss_ *= mask\n",
    "    \n",
    "    return tf.reduce_mean(loss_)"
   ]
  },
  {
   "cell_type": "code",
   "execution_count": 39,
   "metadata": {
    "_cell_guid": "372751c1-8ed8-4756-b50b-527930873638",
    "_uuid": "6824a3f2-5c2b-4f22-a368-a927c4705f5d",
    "execution": {
     "iopub.execute_input": "2022-04-20T02:48:25.197251Z",
     "iopub.status.busy": "2022-04-20T02:48:25.196760Z",
     "iopub.status.idle": "2022-04-20T02:48:25.205869Z",
     "shell.execute_reply": "2022-04-20T02:48:25.205095Z",
     "shell.execute_reply.started": "2022-04-20T02:48:25.197211Z"
    },
    "jupyter": {
     "outputs_hidden": false
    }
   },
   "outputs": [],
   "source": [
    "checkpoint_path = \"flickr8k/checkpoint/\"\n",
    "ckpt = tf.train.Checkpoint(encoder=encoder,\n",
    "                           decoder=decoder,\n",
    "                           optimizer = optimizer)\n",
    "ckpt_manager = tf.train.CheckpointManager(ckpt,\n",
    "                                          checkpoint_path,\n",
    "                                          max_to_keep=5)"
   ]
  },
  {
   "cell_type": "code",
   "execution_count": 40,
   "metadata": {
    "_cell_guid": "6a7525d6-2039-4b4a-979f-98d3a6ec8384",
    "_uuid": "146b2798-2ce3-4d13-b4ea-8a90c412e145",
    "execution": {
     "iopub.execute_input": "2022-04-20T02:48:25.211524Z",
     "iopub.status.busy": "2022-04-20T02:48:25.211259Z",
     "iopub.status.idle": "2022-04-20T02:48:25.215461Z",
     "shell.execute_reply": "2022-04-20T02:48:25.214667Z",
     "shell.execute_reply.started": "2022-04-20T02:48:25.211498Z"
    },
    "jupyter": {
     "outputs_hidden": false
    }
   },
   "outputs": [],
   "source": [
    "start_epoch = 0\n",
    "if ckpt_manager.latest_checkpoint:\n",
    "    start_epoch = int(ckpt_manager.latest_checkpoint.split('-')[-1])"
   ]
  },
  {
   "cell_type": "markdown",
   "metadata": {},
   "source": [
    "* While creating the training step for your model, you will apply Teacher forcing.\n",
    "* Teacher forcing is a technique where the target/real word is passed as the next input to the decoder instead of previous prediciton."
   ]
  },
  {
   "cell_type": "code",
   "execution_count": 41,
   "metadata": {
    "_cell_guid": "1e9c81f5-05e0-427a-b160-187a33d5b030",
    "_uuid": "5be06fff-68fa-4bf4-bfe1-3e62bb300348",
    "execution": {
     "iopub.execute_input": "2022-04-20T02:48:25.217415Z",
     "iopub.status.busy": "2022-04-20T02:48:25.217146Z",
     "iopub.status.idle": "2022-04-20T02:48:25.229051Z",
     "shell.execute_reply": "2022-04-20T02:48:25.228320Z",
     "shell.execute_reply.started": "2022-04-20T02:48:25.217369Z"
    },
    "jupyter": {
     "outputs_hidden": false
    }
   },
   "outputs": [],
   "source": [
    "@tf.function\n",
    "def train_step(img_tensor, target):\n",
    "    loss = 0\n",
    "    hidden = decoder.init_state(batch_size=target.shape[0])\n",
    "    dec_input = tf.expand_dims([tokenizer.word_index['<start>']] * target.shape[0], 1)\n",
    "    \n",
    "    with tf.GradientTape() as tape:\n",
    "        #training steps  \n",
    "        # Encoder\n",
    "        features = encoder(img_tensor)\n",
    "        # using Teacher forcing is a technique where the target/real word is passed as the next input to the decoder\n",
    "        for i in range(1, target.shape[1]):\n",
    "            # passing encoder output to the decoder\n",
    "            predictions, hidden, _ = decoder(dec_input, features, hidden)\n",
    "            loss += loss_function(target[:, i], predictions)\n",
    "            dec_input = tf.expand_dims(target[:, i], 1)\n",
    "        \n",
    "        # backpropagation\n",
    "        #calculating average loss for every batch  \n",
    "        avg_loss = (loss/int(target.shape[1]))\n",
    "        trainable_variables = encoder.trainable_variables + decoder.trainable_variables\n",
    "        \n",
    "        #calculating gradients with respect to every trainable variable\n",
    "        gradients = tape.gradient(loss, trainable_variables)\n",
    "        #applying it to the optimizer and backpropagating.\n",
    "        optimizer.apply_gradients(zip(gradients, trainable_variables))\n",
    "        \n",
    "        return loss, avg_loss"
   ]
  },
  {
   "cell_type": "markdown",
   "metadata": {},
   "source": [
    "* While creating the test step for your model, you will pass your previous prediciton as the next input to the decoder."
   ]
  },
  {
   "cell_type": "code",
   "execution_count": 42,
   "metadata": {
    "_cell_guid": "647d18ab-87cc-486e-8b08-2a0d7d5dd38d",
    "_uuid": "ea2a07ac-0acc-47df-bc47-7f372539b0be",
    "execution": {
     "iopub.execute_input": "2022-04-20T02:48:25.230780Z",
     "iopub.status.busy": "2022-04-20T02:48:25.230510Z",
     "iopub.status.idle": "2022-04-20T02:48:25.240584Z",
     "shell.execute_reply": "2022-04-20T02:48:25.239756Z",
     "shell.execute_reply.started": "2022-04-20T02:48:25.230746Z"
    },
    "jupyter": {
     "outputs_hidden": false
    }
   },
   "outputs": [],
   "source": [
    "@tf.function\n",
    "def test_step(img_tensor, target):\n",
    "    loss = 0\n",
    "    hidden = decoder.init_state(batch_size=target.shape[0])\n",
    "    dec_input = tf.expand_dims([tokenizer.word_index['<start>']] * target.shape[0], 1)\n",
    "\n",
    "    #write your code here to do the testing steps\n",
    "    with tf.GradientTape() as tape:\n",
    "        # Encoder\n",
    "        features = encoder(img_tensor)\n",
    "       \n",
    "        # using Teacher forcing is a technique where the target/real word is passed as the next input to the decoder\n",
    "        for i in range(1, target.shape[1]):\n",
    "            # passing encoder output to the decoder\n",
    "            predictions, hidden, _ = decoder(dec_input, features, hidden)\n",
    "            loss += loss_function(target[:, i], predictions)\n",
    "            dec_input = tf.expand_dims(target[:, i], 1)\n",
    "        \n",
    "        #calculating average loss for every batch\n",
    "        avg_loss = (loss / int(target.shape[1]))\n",
    "        trainable_variables = encoder.trainable_variables + decoder.trainable_variables\n",
    "        \n",
    "        #calculating gradients with respect to every trainable variable\n",
    "        gradients = tape.gradient(loss, trainable_variables)\n",
    "        #applying it to the optimizer and backpropagating.\n",
    "        optimizer.apply_gradients(zip(gradients, trainable_variables))\n",
    "\n",
    "        return loss, avg_loss"
   ]
  },
  {
   "cell_type": "code",
   "execution_count": 43,
   "metadata": {
    "_cell_guid": "d7530a86-79f1-4c4b-b10b-e245ec8fc30f",
    "_uuid": "a2b437ca-a7f8-4ba4-b958-c3d0d459f645",
    "execution": {
     "iopub.execute_input": "2022-04-20T02:48:25.242276Z",
     "iopub.status.busy": "2022-04-20T02:48:25.241906Z",
     "iopub.status.idle": "2022-04-20T02:48:25.252387Z",
     "shell.execute_reply": "2022-04-20T02:48:25.251670Z",
     "shell.execute_reply.started": "2022-04-20T02:48:25.242241Z"
    },
    "jupyter": {
     "outputs_hidden": false
    }
   },
   "outputs": [],
   "source": [
    "def test_loss_cal(test_dataset):\n",
    "    total_loss = 0\n",
    "    \n",
    "    #write your code to get the average loss result on your test data\n",
    "    for (batch, (img_tensor, target)) in enumerate(test_dataset):\n",
    "        batch_loss, t_loss = test_step(img_tensor, target)\n",
    "        total_loss += t_loss\n",
    "    avg_test_loss=total_loss/test_num_steps\n",
    "    \n",
    "    return avg_test_loss"
   ]
  },
  {
   "cell_type": "code",
   "execution_count": 44,
   "metadata": {
    "_cell_guid": "ae848309-92ca-4bed-9012-d24b7848bfca",
    "_uuid": "d9140787-55e6-46d2-b5b1-ffb25a25148e",
    "execution": {
     "iopub.execute_input": "2022-04-20T02:48:25.254210Z",
     "iopub.status.busy": "2022-04-20T02:48:25.253952Z",
     "iopub.status.idle": "2022-04-20T03:19:46.940848Z",
     "shell.execute_reply": "2022-04-20T03:19:46.939522Z",
     "shell.execute_reply.started": "2022-04-20T02:48:25.254175Z"
    },
    "jupyter": {
     "outputs_hidden": false
    }
   },
   "outputs": [],
   "source": [
    "loss_plot = []\n",
    "test_loss_plot = []\n",
    "EPOCHS = 15\n",
    "\n",
    "best_test_loss=100\n",
    "for epoch in tqdm(range(0, EPOCHS)):\n",
    "    start = time.time()\n",
    "    total_loss = 0\n",
    "\n",
    "    for (batch, (img_tensor, target)) in enumerate(train_dataset):\n",
    "        batch_loss, t_loss = train_step(img_tensor, target)\n",
    "        total_loss += t_loss\n",
    "        avg_train_loss=total_loss / train_num_steps\n",
    "        \n",
    "    loss_plot.append(avg_train_loss)    \n",
    "    test_loss = test_loss_cal(test_dataset)\n",
    "    test_loss_plot.append(test_loss)\n",
    "    \n",
    "    print ('For epoch: {}, the train loss is {:.3f}, & test loss is {:.3f}'.format(epoch+1,avg_train_loss,test_loss))\n",
    "    print ('Time taken for 1 epoch {} sec\\n'.format(time.time() - start))\n",
    "    \n",
    "    if test_loss < best_test_loss:\n",
    "        print('Test loss has been reduced from %.3f to %.3f' % (best_test_loss, test_loss))\n",
    "        best_test_loss = test_loss\n",
    "        ckpt_manager.save()"
   ]
  },
  {
   "cell_type": "code",
   "execution_count": 45,
   "metadata": {
    "_cell_guid": "6078fd78-bbd6-48b1-a54e-6daa9b360052",
    "_uuid": "72df27cc-8906-4952-a48d-1c0376afbaf0",
    "execution": {
     "iopub.execute_input": "2022-04-20T03:19:46.942915Z",
     "iopub.status.busy": "2022-04-20T03:19:46.942415Z",
     "iopub.status.idle": "2022-04-20T03:19:47.154910Z",
     "shell.execute_reply": "2022-04-20T03:19:47.154181Z",
     "shell.execute_reply.started": "2022-04-20T03:19:46.942876Z"
    },
    "jupyter": {
     "outputs_hidden": false
    }
   },
   "outputs": [],
   "source": [
    "plt.plot(loss_plot)\n",
    "plt.plot(test_loss_plot)\n",
    "plt.xlabel('Epochs')\n",
    "plt.ylabel('Loss')\n",
    "plt.title('Loss Plot')\n",
    "plt.show()"
   ]
  },
  {
   "cell_type": "markdown",
   "metadata": {},
   "source": [
    "#### NOTE: \n",
    "* Since there is a difference between the train & test steps ( Presence of teacher forcing), you may observe that the train loss is decreasing while your test loss is not. \n",
    "* This doesn't mean that the model is overfitting, as we can't compare the train & test results here, as both approach is different.\n",
    "* Also, if you want to achieve better results you can run it more epochs, but the intent of this capstone is to give you an idea on how to integrate attention mechanism with E-D architecture for images. The intent is not to create the state of art model. "
   ]
  },
  {
   "cell_type": "markdown",
   "metadata": {
    "_cell_guid": "32aeb569-b62a-4341-8d8e-7259ed9e8491",
    "_uuid": "81c56dc7-9401-4198-ba64-e568a96d0f4e"
   },
   "source": [
    "## Model Evaluation\n",
    "1.Define your evaluation function using greedy search\n",
    "\n",
    "2.Define your evaluation function using beam search ( optional)\n",
    "\n",
    "3.Test it on a sample data using BLEU score"
   ]
  },
  {
   "cell_type": "markdown",
   "metadata": {
    "_cell_guid": "0a8f5683-5927-4793-ae5d-8335068070f1",
    "_uuid": "d83f762a-cf0b-4d71-96be-9c7318b3692f"
   },
   "source": [
    "### Greedy Search"
   ]
  },
  {
   "cell_type": "code",
   "execution_count": 46,
   "metadata": {
    "_cell_guid": "50f96d7f-c5aa-4e9b-b309-849e6f2511a4",
    "_uuid": "fc380b03-88ff-4996-a83c-0cea5d6e2c08",
    "execution": {
     "iopub.execute_input": "2022-04-20T03:19:47.156990Z",
     "iopub.status.busy": "2022-04-20T03:19:47.156493Z",
     "iopub.status.idle": "2022-04-20T03:19:47.167026Z",
     "shell.execute_reply": "2022-04-20T03:19:47.166230Z",
     "shell.execute_reply.started": "2022-04-20T03:19:47.156951Z"
    },
    "jupyter": {
     "outputs_hidden": false
    }
   },
   "outputs": [],
   "source": [
    "def evaluate(image):\n",
    "    max_length=max_len\n",
    "    attention_plot = np.zeros((max_length, attention_features_shape))\n",
    "\n",
    "    hidden = decoder.init_state(batch_size=1)\n",
    "\n",
    "    temp_input = tf.expand_dims(load_image(image)[0], 0) #process the input image to desired format before extracting features\n",
    "    img_tensor_val = image_features_extract_model(temp_input) # Extract features using our feature extraction model\n",
    "    img_tensor_val = tf.reshape(img_tensor_val, (img_tensor_val.shape[0], -1, img_tensor_val.shape[3]))\n",
    "\n",
    "    features = encoder(img_tensor_val) # extract the features by passing the input to encoder\n",
    "\n",
    "    dec_input = tf.expand_dims([tokenizer.word_index['<start>']], 0)\n",
    "    result = []\n",
    "\n",
    "    for i in range(max_length):\n",
    "        predictions, hidden, attention_weights = decoder(dec_input, features, hidden) # get the output from decoder\n",
    "\n",
    "        attention_plot[i] = tf.reshape(attention_weights, (-1, )).numpy()\n",
    "        \n",
    "        #extract the predicted id(embedded value) which carries the max value\n",
    "        #map the id to the word from tokenizer and append the value to the result list\n",
    "        predicted_id = tf.argmax(predictions[0]).numpy()     \n",
    "        result.append(tokenizer.index_word[predicted_id])\n",
    "\n",
    "        if tokenizer.index_word[predicted_id] == '<end>':\n",
    "            return result, attention_plot,predictions\n",
    "\n",
    "        dec_input = tf.expand_dims([predicted_id], 0)\n",
    "\n",
    "    attention_plot = attention_plot[:len(result), :]\n",
    "    return result, attention_plot,predictions"
   ]
  },
  {
   "cell_type": "markdown",
   "metadata": {
    "_cell_guid": "24a837d5-2951-4fa2-9eee-e2c35de0d6fc",
    "_uuid": "c751ef0e-b88a-4dec-8e1d-c796f6565b92"
   },
   "source": [
    "### Beam Search(optional)"
   ]
  },
  {
   "cell_type": "code",
   "execution_count": 47,
   "metadata": {
    "_cell_guid": "a229fc8b-7f22-4ccf-8553-393253742031",
    "_uuid": "21649327-0efb-42fc-9550-4a9e5288aa6e",
    "execution": {
     "iopub.execute_input": "2022-04-20T03:19:47.169932Z",
     "iopub.status.busy": "2022-04-20T03:19:47.169739Z",
     "iopub.status.idle": "2022-04-20T03:19:47.185593Z",
     "shell.execute_reply": "2022-04-20T03:19:47.184786Z",
     "shell.execute_reply.started": "2022-04-20T03:19:47.169910Z"
    },
    "jupyter": {
     "outputs_hidden": false
    }
   },
   "outputs": [],
   "source": [
    "def beam_evaluate(image, beam_index = 3):\n",
    "    #write your code to evaluate the result using beam search\n",
    "\n",
    "    max_length=max_len\n",
    "    start = [tokenizer.word_index['<start>']]\n",
    "    result = [[start, 0.0]]\n",
    "\n",
    "    attention_plot = np.zeros((max_length, attention_features_shape))\n",
    "\n",
    "    hidden = decoder.init_state(batch_size=1)\n",
    "\n",
    "    temp_input = tf.expand_dims(load_image(image)[0], 0)\n",
    "    img_tensor_val = image_features_extract_model(temp_input)\n",
    "    img_tensor_val = tf.reshape(img_tensor_val, (img_tensor_val.shape[0], -1, img_tensor_val.shape[3]))\n",
    "\n",
    "    features = encoder(img_tensor_val)\n",
    "\n",
    "    dec_input = tf.expand_dims([tokenizer.word_index['<start>']], 0)\n",
    "\n",
    "    while len(result[0][0]) < max_length:\n",
    "        i=0\n",
    "        temp = []\n",
    "        for s in result:\n",
    "            predictions, hidden, attention_weights = decoder(dec_input, features, hidden)\n",
    "            attention_plot[i] = tf.reshape(attention_weights, (-1, )).numpy()\n",
    "            i=i+1\n",
    "            word_preds = np.argsort(predictions[0])[-beam_index:]\n",
    "          \n",
    "            for w in word_preds:\n",
    "                next_cap, prob = s[0][:], s[1]\n",
    "                next_cap.append(w)\n",
    "            \n",
    "                prob += np.log(predictions[0][w])\n",
    "                    \n",
    "                temp.append([next_cap, prob])\n",
    "        result = temp\n",
    "        result = sorted(result, reverse=False, key=lambda l: l[1])\n",
    "        result = result[-beam_index:]\n",
    "        \n",
    "        \n",
    "        predicted_id = result[-1]\n",
    "        pred_list = predicted_id[0]\n",
    "        \n",
    "        prd_id = pred_list[-1] \n",
    "        if(prd_id!=3):\n",
    "            dec_input = tf.expand_dims([prd_id], 0)  \n",
    "        else:\n",
    "            break\n",
    "    \n",
    "    \n",
    "    result2 = result[-1][0]\n",
    "    \n",
    "    intermediate_caption = [tokenizer.index_word[i] for i in result2]\n",
    "    final_caption = []\n",
    "    for i in intermediate_caption:\n",
    "        if i != '<end>':\n",
    "            final_caption.append(i)\n",
    "            \n",
    "        else:\n",
    "            break\n",
    "\n",
    "    attention_plot = attention_plot[:len(result), :]\n",
    "    final_caption = ' '.join(final_caption[1:])\n",
    "    return final_caption"
   ]
  },
  {
   "cell_type": "code",
   "execution_count": 48,
   "metadata": {
    "_cell_guid": "db96fe24-ea9b-4af0-9fd1-f4e99f28bfa0",
    "_uuid": "61e90459-571a-4e7d-82ab-2655d2e53da6",
    "execution": {
     "iopub.execute_input": "2022-04-20T03:19:47.186783Z",
     "iopub.status.busy": "2022-04-20T03:19:47.186589Z",
     "iopub.status.idle": "2022-04-20T03:19:47.198679Z",
     "shell.execute_reply": "2022-04-20T03:19:47.197984Z",
     "shell.execute_reply.started": "2022-04-20T03:19:47.186760Z"
    },
    "jupyter": {
     "outputs_hidden": false
    }
   },
   "outputs": [],
   "source": [
    "def plot_attmap(caption, weights, image):\n",
    "\n",
    "    fig = plt.figure(figsize=(10, 10))\n",
    "    temp_img = np.array(Image.open(image))\n",
    "    \n",
    "    len_cap = len(caption)\n",
    "    for cap in range(len_cap):\n",
    "        weights_img = np.reshape(weights[cap], (8,8))\n",
    "        weights_img = np.array(Image.fromarray(weights_img).resize((224, 224), Image.LANCZOS))\n",
    "        \n",
    "        ax = fig.add_subplot(len_cap//2, len_cap//2, cap+1)\n",
    "        ax.set_title(caption[cap], fontsize=15)\n",
    "        \n",
    "        img=ax.imshow(temp_img)\n",
    "        \n",
    "        ax.imshow(weights_img, cmap='gist_heat', alpha=0.6,extent=img.get_extent())\n",
    "        ax.axis('off')\n",
    "    plt.subplots_adjust(hspace=0.2, wspace=0.2)\n",
    "    plt.show()"
   ]
  },
  {
   "cell_type": "code",
   "execution_count": 49,
   "metadata": {
    "_cell_guid": "75a7ade5-97d9-4f5c-846b-b833f1037eb1",
    "_uuid": "187d9603-adf6-47b8-9bc2-27bc0522c004",
    "execution": {
     "iopub.execute_input": "2022-04-20T03:19:47.200934Z",
     "iopub.status.busy": "2022-04-20T03:19:47.200067Z",
     "iopub.status.idle": "2022-04-20T03:19:47.648327Z",
     "shell.execute_reply": "2022-04-20T03:19:47.647568Z",
     "shell.execute_reply.started": "2022-04-20T03:19:47.200898Z"
    },
    "jupyter": {
     "outputs_hidden": false
    }
   },
   "outputs": [],
   "source": [
    "from nltk.translate.bleu_score import sentence_bleu"
   ]
  },
  {
   "cell_type": "code",
   "execution_count": 50,
   "metadata": {
    "_cell_guid": "0f002262-c5a7-4564-9dcd-f24bae907263",
    "_uuid": "50a0d2e4-a9cd-48f9-8683-80241cc0f6c9",
    "execution": {
     "iopub.execute_input": "2022-04-20T03:19:47.649991Z",
     "iopub.status.busy": "2022-04-20T03:19:47.649735Z",
     "iopub.status.idle": "2022-04-20T03:19:47.655042Z",
     "shell.execute_reply": "2022-04-20T03:19:47.654393Z",
     "shell.execute_reply.started": "2022-04-20T03:19:47.649955Z"
    },
    "jupyter": {
     "outputs_hidden": false
    }
   },
   "outputs": [],
   "source": [
    "def filt_text(text):\n",
    "    filt=['<start>','<unk>','<end>'] \n",
    "    temp= text.split()\n",
    "    [temp.remove(j) for k in filt for j in temp if k==j]\n",
    "    text=' '.join(temp)\n",
    "    return text"
   ]
  },
  {
   "cell_type": "code",
   "execution_count": 51,
   "metadata": {
    "_cell_guid": "4813c705-a8fe-4fec-ac63-d7244d520bac",
    "_uuid": "3167c981-4b6c-4bdb-b31a-cff35df7eb36",
    "execution": {
     "iopub.execute_input": "2022-04-20T03:19:47.656891Z",
     "iopub.status.busy": "2022-04-20T03:19:47.656459Z",
     "iopub.status.idle": "2022-04-20T03:19:47.667468Z",
     "shell.execute_reply": "2022-04-20T03:19:47.666790Z",
     "shell.execute_reply.started": "2022-04-20T03:19:47.656853Z"
    },
    "jupyter": {
     "outputs_hidden": false
    }
   },
   "outputs": [],
   "source": [
    "features_shape = batch_f.shape[1]\n",
    "attention_features_shape = batch_f.shape[0]\n",
    "print(features_shape)\n",
    "print(attention_features_shape)"
   ]
  },
  {
   "cell_type": "code",
   "execution_count": 53,
   "metadata": {
    "_cell_guid": "10551407-04d9-423e-994f-8549858ec82c",
    "_uuid": "48e8ec90-b5f7-4c14-8f34-0cb58db461da",
    "execution": {
     "iopub.execute_input": "2022-04-20T03:33:43.544920Z",
     "iopub.status.busy": "2022-04-20T03:33:43.544343Z",
     "iopub.status.idle": "2022-04-20T03:33:44.690737Z",
     "shell.execute_reply": "2022-04-20T03:33:44.689973Z",
     "shell.execute_reply.started": "2022-04-20T03:33:43.544880Z"
    },
    "jupyter": {
     "outputs_hidden": false
    }
   },
   "outputs": [],
   "source": [
    "rid = np.random.randint(0, len(path_test))\n",
    "print(rid)\n",
    "test_image = path_test[rid]\n",
    "\n",
    "real_caption = ' '.join([tokenizer.index_word[i] for i in cap_test[rid] if i not in [0]])\n",
    "result, attention_plot,pred_test = evaluate(test_image)\n",
    "\n",
    "real_caption=filt_text(real_caption) \n",
    "\n",
    "pred_caption=' '.join(result).rsplit(' ', 1)[0]\n",
    "\n",
    "real_appn = []\n",
    "real_appn.append(real_caption.split())\n",
    "reference = real_appn\n",
    "candidate = pred_caption.split()\n",
    "\n",
    "score = sentence_bleu(reference, candidate, weights=(0.25, 0.25, 0.25, 0.25))\n",
    "print(f\"BELU score: {score*100}\")\n",
    "\n",
    "print('Real Caption:', real_caption)\n",
    "print('Prediction Caption:', pred_caption)\n",
    "plot_attmap(result, attention_plot, test_image)\n",
    "\n",
    "\n",
    "Image.open(test_image)"
   ]
  },
  {
   "cell_type": "code",
   "execution_count": 54,
   "metadata": {
    "_cell_guid": "bddac91e-1c1d-4bd2-84de-e9d4989c7e98",
    "_uuid": "0be37e59-5ce1-4eae-b8ff-007dcb3e148d",
    "execution": {
     "iopub.execute_input": "2022-04-20T03:34:39.296185Z",
     "iopub.status.busy": "2022-04-20T03:34:39.295521Z",
     "iopub.status.idle": "2022-04-20T03:34:40.448915Z",
     "shell.execute_reply": "2022-04-20T03:34:40.447446Z",
     "shell.execute_reply.started": "2022-04-20T03:34:39.296146Z"
    },
    "jupyter": {
     "outputs_hidden": false
    }
   },
   "outputs": [],
   "source": [
    "captions=beam_evaluate(test_image)\n",
    "print(pred_caption)"
   ]
  },
  {
   "cell_type": "markdown",
   "metadata": {
    "_cell_guid": "2723363d-6ac3-4601-9ebc-486f98750596",
    "_uuid": "b248a991-9335-4f89-9fb8-4d83f5093538",
    "jupyter": {
     "outputs_hidden": false
    }
   },
   "source": [
    "## Converting Text to Speech"
   ]
  },
  {
   "cell_type": "code",
   "execution_count": 55,
   "metadata": {
    "execution": {
     "iopub.execute_input": "2022-04-20T03:34:44.611402Z",
     "iopub.status.busy": "2022-04-20T03:34:44.610651Z",
     "iopub.status.idle": "2022-04-20T03:34:54.652991Z",
     "shell.execute_reply": "2022-04-20T03:34:54.652119Z",
     "shell.execute_reply.started": "2022-04-20T03:34:44.611337Z"
    }
   },
   "outputs": [],
   "source": [
    "! pip install gTTS"
   ]
  },
  {
   "cell_type": "code",
   "execution_count": 57,
   "metadata": {
    "execution": {
     "iopub.execute_input": "2022-04-20T03:38:47.719972Z",
     "iopub.status.busy": "2022-04-20T03:38:47.719692Z",
     "iopub.status.idle": "2022-04-20T03:38:47.935553Z",
     "shell.execute_reply": "2022-04-20T03:38:47.934724Z",
     "shell.execute_reply.started": "2022-04-20T03:38:47.719943Z"
    }
   },
   "outputs": [],
   "source": [
    "# converting text-to-speach \n",
    "from gtts import gTTS\n",
    "from IPython import display\n",
    "\n",
    "tts = gTTS(pred_caption, slow = False)\n",
    "tts.save('pred_caption.mp3')\n",
    "\n",
    "sound_file = 'pred_caption.mp3'\n",
    "display.display(display.Audio(sound_file))"
   ]
  }
 ],
 "metadata": {
  "kernelspec": {
   "display_name": "Python 3",
   "language": "python",
   "name": "python3"
  },
  "language_info": {
   "codemirror_mode": {
    "name": "ipython",
    "version": 3
   },
   "file_extension": ".py",
   "mimetype": "text/x-python",
   "name": "python",
   "nbconvert_exporter": "python",
   "pygments_lexer": "ipython3",
   "version": "3.8.5"
  }
 },
 "nbformat": 4,
 "nbformat_minor": 4
}
